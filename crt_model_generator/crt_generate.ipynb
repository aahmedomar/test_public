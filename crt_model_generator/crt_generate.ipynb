{
 "cells": [
  {
   "cell_type": "markdown",
   "metadata": {},
   "source": [
    "# This code base is developed to validate a concept that DDLs can be created from Excel file"
   ]
  },
  {
   "cell_type": "code",
   "execution_count": null,
   "metadata": {},
   "outputs": [],
   "source": [
    "pip install pandas"
   ]
  },
  {
   "cell_type": "code",
   "execution_count": 9,
   "metadata": {},
   "outputs": [
    {
     "name": "stdout",
     "output_type": "stream",
     "text": [
      "  database   schema      table  column_name  datatype\n",
      "0  dev_raw   cerner   my_table         col1   varchar\n",
      "1  dev_raw   cerner   my_table         col2       int\n",
      "2  dev_raw   cerner   my_table         col3     float\n",
      "3  dev_raw   cerner   my_table         col4   varchar\n"
     ]
    }
   ],
   "source": [
    "import pandas as pd\n",
    "\n",
    "df = pd.read_csv('data/snowflake.csv')\n",
    "# df = pd.read_csv('data/redshift.csv')\n",
    "# df = pd.read_csv('data/qvds.csv')\n",
    "\n",
    "print(df.to_string()) "
   ]
  },
  {
   "cell_type": "code",
   "execution_count": 31,
   "metadata": {},
   "outputs": [
    {
     "name": "stdout",
     "output_type": "stream",
     "text": [
      "generating table/view ddl for my_table.cerner\n",
      "CREATE TABLE my_table.cerner (\n",
      "\tcol1 varchar,\n",
      "\n",
      "generating table/view ddl for my_table.cerner\n",
      "CREATE TABLE my_table.cerner (\n",
      "\tcol2 int,\n",
      "\n",
      "generating table/view ddl for my_table.cerner\n",
      "CREATE TABLE my_table.cerner (\n",
      "\tcol3 float,\n",
      "\n",
      "generating table/view ddl for my_table.cerner\n",
      "CREATE TABLE my_table.cerner (\n",
      "\tcol4 varchar,\n",
      "\n",
      "writing ddl for my_table.cerner to output/snowflake//crt_cerner.sql with content:\n",
      "CREATE TABLE my_table.cerner (\n",
      "\tcol1 varchar,\n",
      "\tcol2 int,\n",
      "\tcol3 float,\n",
      "\tcol4 varchar\n",
      ");\n",
      "Done writing ddl for my_table.cerner to output/snowflake//crt_cerner.sql\n"
     ]
    }
   ],
   "source": [
    "import csv\n",
    "\n",
    "def generate_ddl(csv_file):\n",
    "    ddl_statements = {}\n",
    "    with open(csv_file, 'r') as file:\n",
    "        reader = csv.DictReader(file)\n",
    "        for row in reader:\n",
    "            database_name = row['database'].strip()\n",
    "            table_name = row['schema'].strip()\n",
    "            schema_name = row['table'].strip()\n",
    "            column_name = row['column_name'].strip()\n",
    "            data_type = row['data_type'].strip()\n",
    "            \n",
    "            print(f\"generating table/view ddl for {schema_name}.{table_name}\")\n",
    "            ddl = f\"CREATE TABLE {schema_name}.{table_name} (\\n\"\n",
    "            ddl += f\"\\t{column_name} {data_type},\\n\"\n",
    "\n",
    "            if (schema_name, table_name) not in ddl_statements:\n",
    "                ddl_statements[(schema_name, table_name)] = ddl\n",
    "            else:\n",
    "                ddl_statements[(schema_name, table_name)] += f\"\\t{column_name} {data_type},\\n\"\n",
    "    \n",
    "    for key, value in ddl_statements.items():\n",
    "        ddl_statements[key] = value.rstrip(',\\n') + \"\\n);\"\n",
    "    \n",
    "    return ddl_statements\n",
    "\n",
    "def write_ddl_files(ddl_statements, output_folder):\n",
    "    for key, value in ddl_statements.items():\n",
    "        schema_name, table_name = key\n",
    "        file_name = f\"{output_folder}/crt_{table_name}.sql\"\n",
    "        print(f\"writing ddl for {schema_name}.{table_name} to {file_name} with content:\\n{value}\")\n",
    "        with open(file_name, 'w') as file:\n",
    "            file.write(value)\n",
    "        print(f\"Done writing ddl for {schema_name}.{table_name} to {file_name}\")\n",
    "        \n",
    "csv_file = 'data/snowflake.csv'\n",
    "output_folder = 'output/snowflake/'\n",
    "\n",
    "ddl_statements = generate_ddl(csv_file)\n",
    "write_ddl_files(ddl_statements, output_folder)"
   ]
  }
 ],
 "metadata": {
  "kernelspec": {
   "display_name": "Python 3",
   "language": "python",
   "name": "python3"
  },
  "language_info": {
   "codemirror_mode": {
    "name": "ipython",
    "version": 3
   },
   "file_extension": ".py",
   "mimetype": "text/x-python",
   "name": "python",
   "nbconvert_exporter": "python",
   "pygments_lexer": "ipython3",
   "version": "3.11.9"
  }
 },
 "nbformat": 4,
 "nbformat_minor": 2
}
